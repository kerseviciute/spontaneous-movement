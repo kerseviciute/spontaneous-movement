{
 "cells": [
  {
   "cell_type": "code",
   "execution_count": 1,
   "id": "initial_id",
   "metadata": {
    "collapsed": true,
    "ExecuteTime": {
     "end_time": "2024-01-02T01:08:29.809730Z",
     "start_time": "2024-01-02T01:08:29.290231Z"
    }
   },
   "outputs": [],
   "source": [
    "import numpy as np\n",
    "import pandas as pd\n",
    "import matplotlib.pyplot as plt"
   ]
  },
  {
   "cell_type": "code",
   "execution_count": 2,
   "outputs": [],
   "source": [
    "with open('../python/methods.py', 'r') as file:\n",
    "    exec(file.read())\n",
    "\n",
    "with open('../python/methods_for_r.py', 'r') as file:\n",
    "    exec(file.read())"
   ],
   "metadata": {
    "collapsed": false,
    "ExecuteTime": {
     "end_time": "2024-01-02T01:08:30.169580Z",
     "start_time": "2024-01-02T01:08:30.163519Z"
    }
   },
   "id": "3492d7e8eee59755"
  },
  {
   "cell_type": "code",
   "execution_count": 3,
   "outputs": [],
   "source": [
    "samples = pd.read_csv('../sample_sheet.csv')"
   ],
   "metadata": {
    "collapsed": false,
    "ExecuteTime": {
     "end_time": "2024-01-02T01:08:30.742842Z",
     "start_time": "2024-01-02T01:08:30.737080Z"
    }
   },
   "id": "59fbdcb03475c29e"
  },
  {
   "cell_type": "code",
   "execution_count": 4,
   "outputs": [],
   "source": [
    "def find_ap(signal, time, ap_threshold = -10):\n",
    "    over_threshold = np.where(signal > ap_threshold)[0]\n",
    "\n",
    "    if len(over_threshold) == 0:\n",
    "        return []\n",
    "\n",
    "    idx_diff = np.where(np.diff(over_threshold) != 1)[0]\n",
    "    ap_count = np.append(over_threshold[0], over_threshold[idx_diff + 1])\n",
    "\n",
    "    return time[ap_count]"
   ],
   "metadata": {
    "collapsed": false,
    "ExecuteTime": {
     "end_time": "2024-01-02T01:08:31.459675Z",
     "start_time": "2024-01-02T01:08:31.454696Z"
    }
   },
   "id": "d8f0290180dd55b3"
  },
  {
   "cell_type": "code",
   "execution_count": 5,
   "outputs": [],
   "source": [
    "full = pd.read_csv('../output/spontaneous-movement-2/figures/event_data.csv')"
   ],
   "metadata": {
    "collapsed": false,
    "ExecuteTime": {
     "end_time": "2024-01-02T01:08:46.518079Z",
     "start_time": "2024-01-02T01:08:40.735392Z"
    }
   },
   "id": "e173feefa4ed293d"
  },
  {
   "cell_type": "code",
   "execution_count": 6,
   "outputs": [],
   "source": [
    "def create_event_id(row):\n",
    "    return f'{row[\"EventId\"]}_{row[\"SID\"]}'"
   ],
   "metadata": {
    "collapsed": false,
    "ExecuteTime": {
     "end_time": "2024-01-02T01:08:48.429411Z",
     "start_time": "2024-01-02T01:08:48.422712Z"
    }
   },
   "id": "d80931dfe3ef6110"
  },
  {
   "cell_type": "code",
   "execution_count": 7,
   "outputs": [],
   "source": [
    "full['Event'] = full.apply(create_event_id, axis = 1)"
   ],
   "metadata": {
    "collapsed": false,
    "ExecuteTime": {
     "end_time": "2024-01-02T01:09:34.322972Z",
     "start_time": "2024-01-02T01:08:51.340846Z"
    }
   },
   "id": "9113ec4534e96557"
  },
  {
   "cell_type": "code",
   "execution_count": 8,
   "outputs": [
    {
     "data": {
      "text/plain": "      Time       EMG         VM      TKEO    SID  Region  EventId  EventStart  \\\n0  0.00000  0.005715 -76.229248  0.009906  W1_C1  S1_L23        0         0.4   \n1  0.00005 -0.018005 -76.383003  0.009897  W1_C1  S1_L23        0         0.4   \n2  0.00010 -0.040815 -76.260002  0.009887  W1_C1  S1_L23        0         0.4   \n3  0.00015 -0.060760 -76.075500  0.009877  W1_C1  S1_L23        0         0.4   \n4  0.00020 -0.074618 -76.352249  0.009868  W1_C1  S1_L23        0         0.4   \n\n     Event  \n0  0_W1_C1  \n1  0_W1_C1  \n2  0_W1_C1  \n3  0_W1_C1  \n4  0_W1_C1  ",
      "text/html": "<div>\n<style scoped>\n    .dataframe tbody tr th:only-of-type {\n        vertical-align: middle;\n    }\n\n    .dataframe tbody tr th {\n        vertical-align: top;\n    }\n\n    .dataframe thead th {\n        text-align: right;\n    }\n</style>\n<table border=\"1\" class=\"dataframe\">\n  <thead>\n    <tr style=\"text-align: right;\">\n      <th></th>\n      <th>Time</th>\n      <th>EMG</th>\n      <th>VM</th>\n      <th>TKEO</th>\n      <th>SID</th>\n      <th>Region</th>\n      <th>EventId</th>\n      <th>EventStart</th>\n      <th>Event</th>\n    </tr>\n  </thead>\n  <tbody>\n    <tr>\n      <th>0</th>\n      <td>0.00000</td>\n      <td>0.005715</td>\n      <td>-76.229248</td>\n      <td>0.009906</td>\n      <td>W1_C1</td>\n      <td>S1_L23</td>\n      <td>0</td>\n      <td>0.4</td>\n      <td>0_W1_C1</td>\n    </tr>\n    <tr>\n      <th>1</th>\n      <td>0.00005</td>\n      <td>-0.018005</td>\n      <td>-76.383003</td>\n      <td>0.009897</td>\n      <td>W1_C1</td>\n      <td>S1_L23</td>\n      <td>0</td>\n      <td>0.4</td>\n      <td>0_W1_C1</td>\n    </tr>\n    <tr>\n      <th>2</th>\n      <td>0.00010</td>\n      <td>-0.040815</td>\n      <td>-76.260002</td>\n      <td>0.009887</td>\n      <td>W1_C1</td>\n      <td>S1_L23</td>\n      <td>0</td>\n      <td>0.4</td>\n      <td>0_W1_C1</td>\n    </tr>\n    <tr>\n      <th>3</th>\n      <td>0.00015</td>\n      <td>-0.060760</td>\n      <td>-76.075500</td>\n      <td>0.009877</td>\n      <td>W1_C1</td>\n      <td>S1_L23</td>\n      <td>0</td>\n      <td>0.4</td>\n      <td>0_W1_C1</td>\n    </tr>\n    <tr>\n      <th>4</th>\n      <td>0.00020</td>\n      <td>-0.074618</td>\n      <td>-76.352249</td>\n      <td>0.009868</td>\n      <td>W1_C1</td>\n      <td>S1_L23</td>\n      <td>0</td>\n      <td>0.4</td>\n      <td>0_W1_C1</td>\n    </tr>\n  </tbody>\n</table>\n</div>"
     },
     "execution_count": 8,
     "metadata": {},
     "output_type": "execute_result"
    }
   ],
   "source": [
    "full.head()"
   ],
   "metadata": {
    "collapsed": false,
    "ExecuteTime": {
     "end_time": "2024-01-02T01:09:51.032455Z",
     "start_time": "2024-01-02T01:09:51.027709Z"
    }
   },
   "id": "367a4cb22b04084d"
  },
  {
   "cell_type": "code",
   "execution_count": 9,
   "outputs": [],
   "source": [
    "unique_events = np.unique(full['Event'])"
   ],
   "metadata": {
    "collapsed": false,
    "ExecuteTime": {
     "end_time": "2024-01-02T01:10:01.508489Z",
     "start_time": "2024-01-02T01:09:52.231409Z"
    }
   },
   "id": "eccb1f62b054a14a"
  },
  {
   "cell_type": "code",
   "execution_count": 10,
   "outputs": [
    {
     "data": {
      "text/plain": "866"
     },
     "execution_count": 10,
     "metadata": {},
     "output_type": "execute_result"
    }
   ],
   "source": [
    "len(unique_events)"
   ],
   "metadata": {
    "collapsed": false,
    "ExecuteTime": {
     "end_time": "2024-01-02T01:10:01.514345Z",
     "start_time": "2024-01-02T01:10:01.509108Z"
    }
   },
   "id": "3802c900e91bbb87"
  },
  {
   "cell_type": "code",
   "execution_count": 11,
   "outputs": [
    {
     "name": "stdout",
     "output_type": "stream",
     "text": [
      "0\n",
      "1\n",
      "2\n",
      "3\n",
      "4\n",
      "5\n",
      "6\n",
      "7\n",
      "8\n",
      "9\n",
      "10\n",
      "11\n",
      "12\n",
      "13\n",
      "14\n"
     ]
    },
    {
     "ename": "KeyboardInterrupt",
     "evalue": "",
     "output_type": "error",
     "traceback": [
      "\u001B[0;31m---------------------------------------------------------------------------\u001B[0m",
      "\u001B[0;31mKeyboardInterrupt\u001B[0m                         Traceback (most recent call last)",
      "Cell \u001B[0;32mIn[11], line 5\u001B[0m\n\u001B[1;32m      3\u001B[0m \u001B[38;5;28;01mfor\u001B[39;00m index, event \u001B[38;5;129;01min\u001B[39;00m \u001B[38;5;28menumerate\u001B[39m(unique_events):\n\u001B[1;32m      4\u001B[0m     \u001B[38;5;28mprint\u001B[39m(index)\n\u001B[0;32m----> 5\u001B[0m     signal \u001B[38;5;241m=\u001B[39m full[\u001B[43mfull\u001B[49m\u001B[43m[\u001B[49m\u001B[38;5;124;43m'\u001B[39;49m\u001B[38;5;124;43mEvent\u001B[39;49m\u001B[38;5;124;43m'\u001B[39;49m\u001B[43m]\u001B[49m\u001B[43m \u001B[49m\u001B[38;5;241;43m==\u001B[39;49m\u001B[43m \u001B[49m\u001B[43mevent\u001B[49m][\u001B[38;5;124m'\u001B[39m\u001B[38;5;124mVM\u001B[39m\u001B[38;5;124m'\u001B[39m]\u001B[38;5;241m.\u001B[39mvalues\n\u001B[1;32m      6\u001B[0m     time \u001B[38;5;241m=\u001B[39m full[full[\u001B[38;5;124m'\u001B[39m\u001B[38;5;124mEvent\u001B[39m\u001B[38;5;124m'\u001B[39m] \u001B[38;5;241m==\u001B[39m event][\u001B[38;5;124m'\u001B[39m\u001B[38;5;124mTime\u001B[39m\u001B[38;5;124m'\u001B[39m]\u001B[38;5;241m.\u001B[39mvalues\n\u001B[1;32m      7\u001B[0m     signal_ap \u001B[38;5;241m=\u001B[39m find_ap(signal, time, ap_threshold \u001B[38;5;241m=\u001B[39m ap_threshold)\n",
      "File \u001B[0;32m~/miniconda3/envs/mne/lib/python3.11/site-packages/pandas/core/ops/common.py:76\u001B[0m, in \u001B[0;36m_unpack_zerodim_and_defer.<locals>.new_method\u001B[0;34m(self, other)\u001B[0m\n\u001B[1;32m     72\u001B[0m             \u001B[38;5;28;01mreturn\u001B[39;00m \u001B[38;5;28mNotImplemented\u001B[39m\n\u001B[1;32m     74\u001B[0m other \u001B[38;5;241m=\u001B[39m item_from_zerodim(other)\n\u001B[0;32m---> 76\u001B[0m \u001B[38;5;28;01mreturn\u001B[39;00m \u001B[43mmethod\u001B[49m\u001B[43m(\u001B[49m\u001B[38;5;28;43mself\u001B[39;49m\u001B[43m,\u001B[49m\u001B[43m \u001B[49m\u001B[43mother\u001B[49m\u001B[43m)\u001B[49m\n",
      "File \u001B[0;32m~/miniconda3/envs/mne/lib/python3.11/site-packages/pandas/core/arraylike.py:40\u001B[0m, in \u001B[0;36mOpsMixin.__eq__\u001B[0;34m(self, other)\u001B[0m\n\u001B[1;32m     38\u001B[0m \u001B[38;5;129m@unpack_zerodim_and_defer\u001B[39m(\u001B[38;5;124m\"\u001B[39m\u001B[38;5;124m__eq__\u001B[39m\u001B[38;5;124m\"\u001B[39m)\n\u001B[1;32m     39\u001B[0m \u001B[38;5;28;01mdef\u001B[39;00m \u001B[38;5;21m__eq__\u001B[39m(\u001B[38;5;28mself\u001B[39m, other):\n\u001B[0;32m---> 40\u001B[0m     \u001B[38;5;28;01mreturn\u001B[39;00m \u001B[38;5;28;43mself\u001B[39;49m\u001B[38;5;241;43m.\u001B[39;49m\u001B[43m_cmp_method\u001B[49m\u001B[43m(\u001B[49m\u001B[43mother\u001B[49m\u001B[43m,\u001B[49m\u001B[43m \u001B[49m\u001B[43moperator\u001B[49m\u001B[38;5;241;43m.\u001B[39;49m\u001B[43meq\u001B[49m\u001B[43m)\u001B[49m\n",
      "File \u001B[0;32m~/miniconda3/envs/mne/lib/python3.11/site-packages/pandas/core/series.py:5799\u001B[0m, in \u001B[0;36mSeries._cmp_method\u001B[0;34m(self, other, op)\u001B[0m\n\u001B[1;32m   5796\u001B[0m lvalues \u001B[38;5;241m=\u001B[39m \u001B[38;5;28mself\u001B[39m\u001B[38;5;241m.\u001B[39m_values\n\u001B[1;32m   5797\u001B[0m rvalues \u001B[38;5;241m=\u001B[39m extract_array(other, extract_numpy\u001B[38;5;241m=\u001B[39m\u001B[38;5;28;01mTrue\u001B[39;00m, extract_range\u001B[38;5;241m=\u001B[39m\u001B[38;5;28;01mTrue\u001B[39;00m)\n\u001B[0;32m-> 5799\u001B[0m res_values \u001B[38;5;241m=\u001B[39m \u001B[43mops\u001B[49m\u001B[38;5;241;43m.\u001B[39;49m\u001B[43mcomparison_op\u001B[49m\u001B[43m(\u001B[49m\u001B[43mlvalues\u001B[49m\u001B[43m,\u001B[49m\u001B[43m \u001B[49m\u001B[43mrvalues\u001B[49m\u001B[43m,\u001B[49m\u001B[43m \u001B[49m\u001B[43mop\u001B[49m\u001B[43m)\u001B[49m\n\u001B[1;32m   5801\u001B[0m \u001B[38;5;28;01mreturn\u001B[39;00m \u001B[38;5;28mself\u001B[39m\u001B[38;5;241m.\u001B[39m_construct_result(res_values, name\u001B[38;5;241m=\u001B[39mres_name)\n",
      "File \u001B[0;32m~/miniconda3/envs/mne/lib/python3.11/site-packages/pandas/core/ops/array_ops.py:346\u001B[0m, in \u001B[0;36mcomparison_op\u001B[0;34m(left, right, op)\u001B[0m\n\u001B[1;32m    343\u001B[0m     \u001B[38;5;28;01mreturn\u001B[39;00m invalid_comparison(lvalues, rvalues, op)\n\u001B[1;32m    345\u001B[0m \u001B[38;5;28;01melif\u001B[39;00m lvalues\u001B[38;5;241m.\u001B[39mdtype \u001B[38;5;241m==\u001B[39m \u001B[38;5;28mobject\u001B[39m \u001B[38;5;129;01mor\u001B[39;00m \u001B[38;5;28misinstance\u001B[39m(rvalues, \u001B[38;5;28mstr\u001B[39m):\n\u001B[0;32m--> 346\u001B[0m     res_values \u001B[38;5;241m=\u001B[39m \u001B[43mcomp_method_OBJECT_ARRAY\u001B[49m\u001B[43m(\u001B[49m\u001B[43mop\u001B[49m\u001B[43m,\u001B[49m\u001B[43m \u001B[49m\u001B[43mlvalues\u001B[49m\u001B[43m,\u001B[49m\u001B[43m \u001B[49m\u001B[43mrvalues\u001B[49m\u001B[43m)\u001B[49m\n\u001B[1;32m    348\u001B[0m \u001B[38;5;28;01melse\u001B[39;00m:\n\u001B[1;32m    349\u001B[0m     res_values \u001B[38;5;241m=\u001B[39m _na_arithmetic_op(lvalues, rvalues, op, is_cmp\u001B[38;5;241m=\u001B[39m\u001B[38;5;28;01mTrue\u001B[39;00m)\n",
      "File \u001B[0;32m~/miniconda3/envs/mne/lib/python3.11/site-packages/pandas/core/ops/array_ops.py:131\u001B[0m, in \u001B[0;36mcomp_method_OBJECT_ARRAY\u001B[0;34m(op, x, y)\u001B[0m\n\u001B[1;32m    129\u001B[0m     result \u001B[38;5;241m=\u001B[39m libops\u001B[38;5;241m.\u001B[39mvec_compare(x\u001B[38;5;241m.\u001B[39mravel(), y\u001B[38;5;241m.\u001B[39mravel(), op)\n\u001B[1;32m    130\u001B[0m \u001B[38;5;28;01melse\u001B[39;00m:\n\u001B[0;32m--> 131\u001B[0m     result \u001B[38;5;241m=\u001B[39m \u001B[43mlibops\u001B[49m\u001B[38;5;241;43m.\u001B[39;49m\u001B[43mscalar_compare\u001B[49m\u001B[43m(\u001B[49m\u001B[43mx\u001B[49m\u001B[38;5;241;43m.\u001B[39;49m\u001B[43mravel\u001B[49m\u001B[43m(\u001B[49m\u001B[43m)\u001B[49m\u001B[43m,\u001B[49m\u001B[43m \u001B[49m\u001B[43my\u001B[49m\u001B[43m,\u001B[49m\u001B[43m \u001B[49m\u001B[43mop\u001B[49m\u001B[43m)\u001B[49m\n\u001B[1;32m    132\u001B[0m \u001B[38;5;28;01mreturn\u001B[39;00m result\u001B[38;5;241m.\u001B[39mreshape(x\u001B[38;5;241m.\u001B[39mshape)\n",
      "\u001B[0;31mKeyboardInterrupt\u001B[0m: "
     ]
    }
   ],
   "source": [
    "ap_threshold = -20\n",
    "aps = []\n",
    "for index, event in enumerate(unique_events):\n",
    "    print(index)\n",
    "    signal = full[full['Event'] == event]['VM'].values\n",
    "    time = full[full['Event'] == event]['Time'].values\n",
    "    signal_ap = find_ap(signal, time, ap_threshold = ap_threshold)\n",
    "    \n",
    "    aps.append(pd.DataFrame({\n",
    "        'Trial': event,\n",
    "        'Time': signal_ap\n",
    "    }))\n",
    "\n",
    "aps = pd.concat(aps)"
   ],
   "metadata": {
    "collapsed": false,
    "ExecuteTime": {
     "end_time": "2024-01-02T01:10:38.133838Z",
     "start_time": "2024-01-02T01:10:27.167554Z"
    }
   },
   "id": "fcf29f7e439daaaa"
  },
  {
   "cell_type": "code",
   "execution_count": 41,
   "outputs": [],
   "source": [
    "aps.to_csv('../figures/all_ap_time.csv')"
   ],
   "metadata": {
    "collapsed": false,
    "ExecuteTime": {
     "end_time": "2023-12-31T11:35:36.296619Z",
     "start_time": "2023-12-31T11:35:36.276559Z"
    }
   },
   "id": "743f15f0599e8581"
  },
  {
   "cell_type": "code",
   "execution_count": 38,
   "outputs": [
    {
     "data": {
      "text/plain": "<Figure size 640x480 with 1 Axes>",
      "image/png": "[encoded data removed]"
     },
     "metadata": {},
     "output_type": "display_data"
    }
   ],
   "source": [],
   "metadata": {
    "collapsed": false,
    "ExecuteTime": {
     "end_time": "2023-12-31T11:17:47.753536Z",
     "start_time": "2023-12-31T11:17:47.697347Z"
    }
   },
   "id": "19c1263584730e84"
  },
  {
   "cell_type": "code",
   "execution_count": null,
   "outputs": [],
   "source": [],
   "metadata": {
    "collapsed": false
   },
   "id": "a8e5f9d008b49e4"
  }
 ],
 "metadata": {
  "kernelspec": {
   "display_name": "Python 3",
   "language": "python",
   "name": "python3"
  },
  "language_info": {
   "codemirror_mode": {
    "name": "ipython",
    "version": 2
   },
   "file_extension": ".py",
   "mimetype": "text/x-python",
   "name": "python",
   "nbconvert_exporter": "python",
   "pygments_lexer": "ipython2",
   "version": "2.7.6"
  }
 },
 "nbformat": 4,
 "nbformat_minor": 5
}
