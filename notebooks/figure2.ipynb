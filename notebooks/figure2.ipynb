{
 "cells": [
  {
   "cell_type": "code",
   "execution_count": 64,
   "id": "initial_id",
   "metadata": {
    "collapsed": true,
    "ExecuteTime": {
     "end_time": "2023-12-31T05:59:47.100922Z",
     "start_time": "2023-12-31T05:59:47.098590Z"
    }
   },
   "outputs": [],
   "source": [
    "import numpy as np\n",
    "import pandas as pd\n",
    "import matplotlib.pyplot as plt"
   ]
  },
  {
   "cell_type": "code",
   "execution_count": 90,
   "outputs": [],
   "source": [
    "with open('../python/methods.py', 'r') as file:\n",
    "    exec(file.read())\n",
    "\n",
    "with open('../python/methods_for_r.py', 'r') as file:\n",
    "    exec(file.read())"
   ],
   "metadata": {
    "collapsed": false,
    "ExecuteTime": {
     "end_time": "2023-12-31T06:47:59.651801Z",
     "start_time": "2023-12-31T06:47:59.641566Z"
    }
   },
   "id": "be20eb3c8434c542"
  },
  {
   "cell_type": "code",
   "execution_count": 66,
   "outputs": [],
   "source": [
    "samples = pd.read_csv('../sample_sheet.csv')"
   ],
   "metadata": {
    "collapsed": false,
    "ExecuteTime": {
     "end_time": "2023-12-31T05:59:49.289194Z",
     "start_time": "2023-12-31T05:59:49.284007Z"
    }
   },
   "id": "92250ec80247d2a7"
  },
  {
   "cell_type": "code",
   "execution_count": 82,
   "outputs": [],
   "source": [
    "movement = []\n",
    "no_movement = []\n",
    "filtered = []\n",
    "for index, sample in samples.iterrows():\n",
    "    animal_id = sample['AnimalID']\n",
    "    cell_name = sample['CellName']\n",
    "    prefix = f'../output/spontaneous-movement/{animal_id}/{cell_name}'\n",
    "    dt = pd.read_pickle(f'{prefix}/emg/movement_events.pkl')\n",
    "    dt['AnimalID'] = animal_id\n",
    "    dt['CellName'] = cell_name\n",
    "    dt['SID'] = sample['SID']\n",
    "    dt['Region'] = sample['Region']\n",
    "    dt['EventID'] = [f'Event{x}' for x in range(len(dt))]\n",
    "    movement.append(dt)\n",
    "    dt = pd.read_pickle(f'{prefix}/emg/no_movement_events.pkl')\n",
    "    dt['AnimalID'] = animal_id\n",
    "    dt['CellName'] = cell_name\n",
    "    dt['SID'] = sample['SID']\n",
    "    dt['Region'] = sample['Region']\n",
    "    dt['EventID'] = [f'Event{x}' for x in range(len(dt))]\n",
    "    no_movement.append(dt)\n",
    "    dt = pd.read_pickle(f'{prefix}/emg/filtered_movement_events.pkl')\n",
    "    dt['AnimalID'] = animal_id\n",
    "    dt['CellName'] = cell_name\n",
    "    dt['SID'] = sample['SID']\n",
    "    dt['Region'] = sample['Region']\n",
    "    dt['EventID'] = [f'Event{x}' for x in range(len(dt))]\n",
    "    filtered.append(dt)\n",
    "\n",
    "movement = pd.concat(movement, ignore_index = True)\n",
    "no_movement = pd.concat(no_movement, ignore_index = True)\n",
    "filtered = pd.concat(filtered, ignore_index = True)"
   ],
   "metadata": {
    "collapsed": false,
    "ExecuteTime": {
     "end_time": "2023-12-31T06:06:30.683425Z",
     "start_time": "2023-12-31T06:06:30.594593Z"
    }
   },
   "id": "a3d2b0ebc9c49104"
  },
  {
   "cell_type": "code",
   "execution_count": 83,
   "outputs": [
    {
     "data": {
      "text/plain": "2003"
     },
     "execution_count": 83,
     "metadata": {},
     "output_type": "execute_result"
    }
   ],
   "source": [
    "len(movement)"
   ],
   "metadata": {
    "collapsed": false,
    "ExecuteTime": {
     "end_time": "2023-12-31T06:06:30.927412Z",
     "start_time": "2023-12-31T06:06:30.918252Z"
    }
   },
   "id": "b815adfe9973961d"
  },
  {
   "cell_type": "code",
   "execution_count": 84,
   "outputs": [
    {
     "data": {
      "text/plain": "2211"
     },
     "execution_count": 84,
     "metadata": {},
     "output_type": "execute_result"
    }
   ],
   "source": [
    "len(no_movement)"
   ],
   "metadata": {
    "collapsed": false,
    "ExecuteTime": {
     "end_time": "2023-12-31T06:06:31.218991Z",
     "start_time": "2023-12-31T06:06:31.210304Z"
    }
   },
   "id": "dc7716a485b9b288"
  },
  {
   "cell_type": "code",
   "execution_count": 86,
   "outputs": [
    {
     "data": {
      "text/plain": "1008"
     },
     "execution_count": 86,
     "metadata": {},
     "output_type": "execute_result"
    }
   ],
   "source": [
    "len(filtered)"
   ],
   "metadata": {
    "collapsed": false,
    "ExecuteTime": {
     "end_time": "2023-12-31T06:06:47.696507Z",
     "start_time": "2023-12-31T06:06:47.685550Z"
    }
   },
   "id": "29cb09085c5b0afe"
  },
  {
   "cell_type": "code",
   "execution_count": 88,
   "outputs": [],
   "source": [
    "no_movement.to_csv('../figures/no_movement_info.csv')\n",
    "filtered.to_csv('../figures/movement_info.csv')"
   ],
   "metadata": {
    "collapsed": false,
    "ExecuteTime": {
     "end_time": "2023-12-31T06:08:57.062744Z",
     "start_time": "2023-12-31T06:08:57.030946Z"
    }
   },
   "id": "50a3851e02d9d4c7"
  },
  {
   "cell_type": "code",
   "execution_count": 99,
   "outputs": [
    {
     "name": "stdout",
     "output_type": "stream",
     "text": [
      "Processing sample W1_C1\n",
      "Processing sample W1_C2\n",
      "Processing sample W1_C8\n",
      "Processing sample W2_C3\n",
      "Processing sample W2_C4\n",
      "Processing sample W2_C5\n",
      "Processing sample W2_C6\n",
      "Processing sample W3_C10\n",
      "Processing sample W3_C11\n",
      "Processing sample W4_C10\n",
      "Processing sample W3_C12\n",
      "Processing sample W3_C13\n",
      "Processing sample W3_C14\n",
      "Processing sample W3_C15\n",
      "Processing sample W3_C16\n",
      "Processing sample W4_C11\n",
      "Processing sample W4_C12\n",
      "Processing sample W4_C13\n",
      "Processing sample W4_C14\n",
      "Processing sample W4_C15\n",
      "Processing sample W1_C3\n",
      "Processing sample W1_C4\n",
      "Processing sample W1_C5\n",
      "Processing sample W1_C6\n",
      "Processing sample W2_C1\n",
      "Processing sample W2_C2\n",
      "Processing sample W3_C1\n",
      "Processing sample W3_C2\n",
      "Processing sample W3_C3\n",
      "Processing sample W3_C7\n",
      "Processing sample W4_C1\n",
      "Processing sample W4_C2\n",
      "Processing sample W2_C7\n",
      "Processing sample W3_C4\n",
      "Processing sample W3_C5\n",
      "Processing sample W3_C6\n",
      "Processing sample W3_C8\n",
      "Processing sample W4_C3\n",
      "Processing sample W4_C4\n",
      "Processing sample W4_C5\n",
      "Processing sample W4_C7\n",
      "Processing sample W4_C8\n"
     ]
    }
   ],
   "source": [
    "final_data = []\n",
    "for index, sample in samples.iterrows():\n",
    "    print(f'Processing sample {sample[\"SID\"]}')\n",
    "    animal_id = sample['AnimalID']\n",
    "    cell_name = sample['CellName']\n",
    "    prefix = f'../output/spontaneous-movement/{animal_id}/{cell_name}'\n",
    "\n",
    "    sample_data = pd.read_pickle(f'{prefix}/vm/filter.pkl')\n",
    "\n",
    "    sample_events = pd.read_pickle(f'{prefix}/emg/filtered_movement_events.pkl')\n",
    "    event_data = []\n",
    "    for i, event in sample_events.iterrows():\n",
    "        start = event['Start']\n",
    "        end = event['End']\n",
    "        channel = event['ChannelId']\n",
    "\n",
    "        channel_data = sample_data.copy().crop(tmin = start, tmax = end)\n",
    "\n",
    "        event_data.append(pd.DataFrame({\n",
    "            'EventID': i,\n",
    "            'Time': channel_data.times,\n",
    "            'Vm': channel_data.get_data(picks = [channel]).flatten(),\n",
    "            'Region': sample['Region'],\n",
    "            'SID': sample['SID'],\n",
    "            'Type': 'Movement'\n",
    "        }))\n",
    "\n",
    "    final_data.append(pd.concat(event_data))\n",
    "\n",
    "    sample_events = pd.read_pickle(f'{prefix}/emg/no_movement_events.pkl')\n",
    "    event_data = []\n",
    "    for i, event in sample_events.iterrows():\n",
    "        start = event['Start']\n",
    "        end = event['End']\n",
    "        channel = event['ChannelId']\n",
    "\n",
    "        channel_data = sample_data.copy().crop(tmin = start, tmax = end)\n",
    "\n",
    "        event_data.append(pd.DataFrame({\n",
    "            'EventID': i,\n",
    "            'Time': channel_data.times,\n",
    "            'Vm': channel_data.get_data(picks = [channel]).flatten(),\n",
    "            'Region': sample['Region'],\n",
    "            'SID': sample['SID'],\n",
    "            'Type': 'No movement'\n",
    "        }))\n",
    "\n",
    "    final_data.append(pd.concat(event_data))"
   ],
   "metadata": {
    "collapsed": false,
    "ExecuteTime": {
     "end_time": "2023-12-31T07:11:09.829066Z",
     "start_time": "2023-12-31T07:10:36.206176Z"
    }
   },
   "id": "88025367bb9174db"
  },
  {
   "cell_type": "code",
   "execution_count": 100,
   "outputs": [],
   "source": [
    "final_data = pd.concat(final_data, ignore_index = True)"
   ],
   "metadata": {
    "collapsed": false,
    "ExecuteTime": {
     "end_time": "2023-12-31T07:11:19.966591Z",
     "start_time": "2023-12-31T07:11:14.511663Z"
    }
   },
   "id": "f62559067bd716a5"
  },
  {
   "cell_type": "code",
   "execution_count": 101,
   "outputs": [],
   "source": [
    "final_data.to_csv('../figures/vm_data.csv')"
   ],
   "metadata": {
    "collapsed": false,
    "ExecuteTime": {
     "end_time": "2023-12-31T07:15:15.294412Z",
     "start_time": "2023-12-31T07:11:20.636577Z"
    }
   },
   "id": "d5dafa4878bf684c"
  },
  {
   "cell_type": "code",
   "execution_count": 104,
   "outputs": [],
   "source": [
    "def find_ap(signal, time, ap_threshold = -10):\n",
    "    over_threshold = np.where(signal > ap_threshold)[0]\n",
    "\n",
    "    if len(over_threshold) == 0:\n",
    "        return []\n",
    "\n",
    "    idx_diff = np.where(np.diff(over_threshold) != 1)[0]\n",
    "    ap_count = np.append(over_threshold[0], over_threshold[idx_diff + 1])\n",
    "\n",
    "    return time[ap_count]"
   ],
   "metadata": {
    "collapsed": false,
    "ExecuteTime": {
     "end_time": "2023-12-31T07:52:41.668686Z",
     "start_time": "2023-12-31T07:52:41.659061Z"
    }
   },
   "id": "3ec10f79ae4928ea"
  },
  {
   "cell_type": "code",
   "execution_count": 142,
   "outputs": [
    {
     "name": "stdout",
     "output_type": "stream",
     "text": [
      "Processing sample W1_C1\n",
      "Processing sample W1_C2\n",
      "Processing sample W1_C8\n",
      "Processing sample W2_C3\n",
      "Processing sample W2_C4\n",
      "Processing sample W2_C5\n",
      "Processing sample W2_C6\n",
      "Processing sample W3_C10\n",
      "Processing sample W3_C11\n",
      "Processing sample W4_C10\n",
      "Processing sample W3_C12\n",
      "Processing sample W3_C13\n",
      "Processing sample W3_C14\n",
      "Processing sample W3_C15\n",
      "Processing sample W3_C16\n",
      "Processing sample W4_C11\n",
      "Processing sample W4_C12\n",
      "Processing sample W4_C13\n",
      "Processing sample W4_C14\n",
      "Processing sample W4_C15\n",
      "Processing sample W1_C3\n",
      "Processing sample W1_C4\n",
      "Processing sample W1_C5\n",
      "Processing sample W1_C6\n",
      "Processing sample W2_C1\n",
      "Processing sample W2_C2\n",
      "Processing sample W3_C1\n",
      "Processing sample W3_C2\n",
      "Processing sample W3_C3\n",
      "Processing sample W3_C7\n",
      "Processing sample W4_C1\n",
      "Processing sample W4_C2\n",
      "Processing sample W2_C7\n",
      "Processing sample W3_C4\n",
      "Processing sample W3_C5\n",
      "Processing sample W3_C6\n",
      "Processing sample W3_C8\n",
      "Processing sample W4_C3\n",
      "Processing sample W4_C4\n",
      "Processing sample W4_C5\n",
      "Processing sample W4_C7\n",
      "Processing sample W4_C8\n"
     ]
    }
   ],
   "source": [
    "ap_data = []\n",
    "\n",
    "for index, sample in samples.iterrows():\n",
    "    print(f'Processing sample {sample[\"SID\"]}')\n",
    "    animal_id = sample['AnimalID']\n",
    "    cell_name = sample['CellName']\n",
    "    prefix = f'../output/spontaneous-movement/{animal_id}/{cell_name}'\n",
    "\n",
    "    sample_data = pd.read_pickle(f'{prefix}/vm/filter.pkl')\n",
    "\n",
    "    sample_events = pd.read_pickle(f'{prefix}/emg/filtered_movement_events.pkl')\n",
    "    event_data = []\n",
    "    for i, event in sample_events.iterrows():\n",
    "        start = event['Start']\n",
    "        end = event['End']\n",
    "        channel = event['ChannelId']\n",
    "\n",
    "        channel_data = sample_data.copy().crop(tmin = start, tmax = end)\n",
    "\n",
    "        event_data.append(pd.DataFrame({\n",
    "            'EventID': [i],\n",
    "            'CountAP': len(\n",
    "                find_ap(channel_data.get_data(picks = [channel]).flatten(), channel_data.times, ap_threshold = -20)),\n",
    "            'Region': sample['Region'],\n",
    "            'SID': sample['SID'],\n",
    "            'Type': 'Movement'\n",
    "        }))\n",
    "\n",
    "    ap_data.append(pd.concat(event_data))\n",
    "\n",
    "    sample_events = pd.read_pickle(f'{prefix}/emg/no_movement_events.pkl')\n",
    "    event_data = []\n",
    "    for i, event in sample_events.iterrows():\n",
    "        start = event['Start']\n",
    "        end = event['End']\n",
    "        channel = event['ChannelId']\n",
    "\n",
    "        channel_data = sample_data.copy().crop(tmin = start, tmax = end)\n",
    "\n",
    "        event_data.append(pd.DataFrame({\n",
    "            'EventID': [i],\n",
    "            'CountAP': len(\n",
    "                find_ap(channel_data.get_data(picks = [channel]).flatten(), channel_data.times, ap_threshold = -20)),\n",
    "            'Region': sample['Region'],\n",
    "            'SID': sample['SID'],\n",
    "            'Type': 'No movement'\n",
    "        }))\n",
    "\n",
    "    ap_data.append(pd.concat(event_data))"
   ],
   "metadata": {
    "collapsed": false,
    "ExecuteTime": {
     "end_time": "2023-12-31T08:03:30.101421Z",
     "start_time": "2023-12-31T08:03:05.872712Z"
    }
   },
   "id": "716d7c0c76a84079"
  },
  {
   "cell_type": "code",
   "execution_count": 143,
   "outputs": [],
   "source": [
    "ap_data = pd.concat(ap_data, ignore_index = True)"
   ],
   "metadata": {
    "collapsed": false,
    "ExecuteTime": {
     "end_time": "2023-12-31T08:03:31.545856Z",
     "start_time": "2023-12-31T08:03:31.537123Z"
    }
   },
   "id": "eb2122034d2d0a69"
  },
  {
   "cell_type": "code",
   "execution_count": 149,
   "outputs": [],
   "source": [
    "ap_data.to_csv('../figures/ap_data.csv')"
   ],
   "metadata": {
    "collapsed": false,
    "ExecuteTime": {
     "end_time": "2023-12-31T08:04:44.815014Z",
     "start_time": "2023-12-31T08:04:44.802747Z"
    }
   },
   "id": "e6d2928cfb61f635"
  },
  {
   "cell_type": "code",
   "execution_count": 148,
   "outputs": [
    {
     "data": {
      "text/plain": "<Figure size 640x480 with 1 Axes>",
      "image/png": "[encoded data removed]"
     },
     "metadata": {},
     "output_type": "display_data"
    }
   ],
   "source": [
    "plt.hist(ap_data[ap_data['CountAP'] != 0]['CountAP'])\n",
    "plt.show()"
   ],
   "metadata": {
    "collapsed": false,
    "ExecuteTime": {
     "end_time": "2023-12-31T08:04:26.261493Z",
     "start_time": "2023-12-31T08:04:26.217282Z"
    }
   },
   "id": "907ac297f3102e78"
  },
  {
   "cell_type": "code",
   "execution_count": 111,
   "outputs": [
    {
     "data": {
      "text/plain": "[<matplotlib.lines.Line2D at 0x29994e0d0>]"
     },
     "execution_count": 111,
     "metadata": {},
     "output_type": "execute_result"
    },
    {
     "data": {
      "text/plain": "<Figure size 640x480 with 1 Axes>",
      "image/png": "[encoded data removed]"
     },
     "metadata": {},
     "output_type": "display_data"
    }
   ],
   "source": [
    "plt.plot(channel_data.copy().crop(tmin = 0, tmax = 0.1).times,\n",
    "         channel_data.copy().crop(tmin = 0, tmax = 0.1).get_data(picks = [channel]).flatten())"
   ],
   "metadata": {
    "collapsed": false,
    "ExecuteTime": {
     "end_time": "2023-12-31T07:54:49.975128Z",
     "start_time": "2023-12-31T07:54:49.902846Z"
    }
   },
   "id": "60d43aaf44e26fc4"
  },
  {
   "cell_type": "code",
   "execution_count": null,
   "outputs": [],
   "source": [],
   "metadata": {
    "collapsed": false
   },
   "id": "af6a7b320850d8b4"
  }
 ],
 "metadata": {
  "kernelspec": {
   "display_name": "Python 3",
   "language": "python",
   "name": "python3"
  },
  "language_info": {
   "codemirror_mode": {
    "name": "ipython",
    "version": 2
   },
   "file_extension": ".py",
   "mimetype": "text/x-python",
   "name": "python",
   "nbconvert_exporter": "python",
   "pygments_lexer": "ipython2",
   "version": "2.7.6"
  }
 },
 "nbformat": 4,
 "nbformat_minor": 5
}
